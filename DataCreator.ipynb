{
 "cells": [
  {
   "cell_type": "code",
   "execution_count": 1,
   "id": "ab9844f3",
   "metadata": {},
   "outputs": [],
   "source": [
    "import pandas as pd"
   ]
  },
  {
   "cell_type": "code",
   "execution_count": 3,
   "id": "cf44c007",
   "metadata": {},
   "outputs": [],
   "source": [
    "df = pd.read_csv('D:\\Programming\\VidyutAiHackathon\\data\\Full-Data.csv')"
   ]
  },
  {
   "cell_type": "code",
   "execution_count": 4,
   "id": "7918fe89",
   "metadata": {},
   "outputs": [
    {
     "data": {
      "text/html": [
       "<div>\n",
       "<style scoped>\n",
       "    .dataframe tbody tr th:only-of-type {\n",
       "        vertical-align: middle;\n",
       "    }\n",
       "\n",
       "    .dataframe tbody tr th {\n",
       "        vertical-align: top;\n",
       "    }\n",
       "\n",
       "    .dataframe thead th {\n",
       "        text-align: right;\n",
       "    }\n",
       "</style>\n",
       "<table border=\"1\" class=\"dataframe\">\n",
       "  <thead>\n",
       "    <tr style=\"text-align: right;\">\n",
       "      <th></th>\n",
       "      <th>SoC</th>\n",
       "      <th>Temperature</th>\n",
       "      <th>Voltage</th>\n",
       "      <th>Label</th>\n",
       "    </tr>\n",
       "  </thead>\n",
       "  <tbody>\n",
       "    <tr>\n",
       "      <th>0</th>\n",
       "      <td>100.000000</td>\n",
       "      <td>298.150000</td>\n",
       "      <td>4.014300</td>\n",
       "      <td>0</td>\n",
       "    </tr>\n",
       "    <tr>\n",
       "      <th>1</th>\n",
       "      <td>99.173138</td>\n",
       "      <td>298.849283</td>\n",
       "      <td>3.916820</td>\n",
       "      <td>0</td>\n",
       "    </tr>\n",
       "    <tr>\n",
       "      <th>2</th>\n",
       "      <td>98.346276</td>\n",
       "      <td>299.665201</td>\n",
       "      <td>3.887562</td>\n",
       "      <td>0</td>\n",
       "    </tr>\n",
       "    <tr>\n",
       "      <th>3</th>\n",
       "      <td>97.519413</td>\n",
       "      <td>300.497825</td>\n",
       "      <td>3.877287</td>\n",
       "      <td>0</td>\n",
       "    </tr>\n",
       "    <tr>\n",
       "      <th>4</th>\n",
       "      <td>96.692551</td>\n",
       "      <td>301.327592</td>\n",
       "      <td>3.870545</td>\n",
       "      <td>0</td>\n",
       "    </tr>\n",
       "  </tbody>\n",
       "</table>\n",
       "</div>"
      ],
      "text/plain": [
       "          SoC  Temperature   Voltage  Label\n",
       "0  100.000000   298.150000  4.014300      0\n",
       "1   99.173138   298.849283  3.916820      0\n",
       "2   98.346276   299.665201  3.887562      0\n",
       "3   97.519413   300.497825  3.877287      0\n",
       "4   96.692551   301.327592  3.870545      0"
      ]
     },
     "execution_count": 4,
     "metadata": {},
     "output_type": "execute_result"
    }
   ],
   "source": [
    "df.head() "
   ]
  },
  {
   "cell_type": "code",
   "execution_count": 5,
   "id": "6f8de63b",
   "metadata": {},
   "outputs": [
    {
     "data": {
      "text/plain": [
       "(1152, 4)"
      ]
     },
     "execution_count": 5,
     "metadata": {},
     "output_type": "execute_result"
    }
   ],
   "source": [
    "df.shape"
   ]
  },
  {
   "cell_type": "code",
   "execution_count": 7,
   "id": "1016c9aa",
   "metadata": {},
   "outputs": [
    {
     "name": "stdout",
     "output_type": "stream",
     "text": [
      "Loading original dataset from 'D:\\Programming\\VidyutAiHackathon\\data\\Full-Data.csv'...\n",
      "Original dataset loaded successfully. Shape: (1152, 4)\n",
      "\n",
      "Original label distribution:\n",
      "Label\n",
      "0    424\n",
      "1    364\n",
      "2    364\n",
      "Name: count, dtype: int64\n",
      "\n",
      "Sampling 150 rows for each label...\n",
      "Shuffling the new dataset...\n",
      "Saving the balanced dataset to 'D:\\Programming\\VidyutAiHackathon\\data\\data2.csv'...\n",
      "\n",
      "New balanced dataset created successfully!\n",
      "Final shape: (450, 4)\n",
      "\n",
      "New label distribution:\n",
      "Label\n",
      "2    150\n",
      "0    150\n",
      "1    150\n",
      "Name: count, dtype: int64\n"
     ]
    },
    {
     "name": "stderr",
     "output_type": "stream",
     "text": [
      "C:\\Users\\anujt\\AppData\\Local\\Temp\\ipykernel_11492\\923704935.py:28: FutureWarning: DataFrameGroupBy.apply operated on the grouping columns. This behavior is deprecated, and in a future version of pandas the grouping columns will be excluded from the operation. Either pass `include_groups=False` to exclude the groupings or explicitly select the grouping columns after groupby to silence this warning.\n",
      "  balanced_df = df.groupby(LABEL_COLUMN, group_keys=False).apply(\n"
     ]
    }
   ],
   "source": [
    "import pandas as pd\n",
    "\n",
    "# --- Configuration ---\n",
    "# The name of your original, larger dataset file.\n",
    "INPUT_CSV_PATH = 'D:\\Programming\\VidyutAiHackathon\\data\\Full-Data.csv'\n",
    "# The name for the new, balanced dataset file that will be created.\n",
    "OUTPUT_CSV_PATH = 'D:\\Programming\\VidyutAiHackathon\\data\\data2.csv'\n",
    "# The column containing the labels (0, 1, 2).\n",
    "LABEL_COLUMN = 'Label'\n",
    "# The number of samples to select for each label.\n",
    "SAMPLES_PER_LABEL = 150\n",
    "# Random state for reproducibility of the random sampling.\n",
    "RANDOM_STATE = 42\n",
    "\n",
    "# --- Main Script ---\n",
    "try:\n",
    "    # 1. Load the original dataset from the CSV file.\n",
    "    print(f\"Loading original dataset from '{INPUT_CSV_PATH}'...\")\n",
    "    df = pd.read_csv(INPUT_CSV_PATH)\n",
    "    print(f\"Original dataset loaded successfully. Shape: {df.shape}\")\n",
    "    print(\"\\nOriginal label distribution:\")\n",
    "    print(df[LABEL_COLUMN].value_counts())\n",
    "\n",
    "    # 2. Group the data by the label and sample from each group.\n",
    "    # - It will randomly select SAMPLES_PER_LABEL from each group.\n",
    "    # - If a group has fewer samples than needed, it will sample with replacement.\n",
    "    print(f\"\\nSampling {SAMPLES_PER_LABEL} rows for each label...\")\n",
    "    balanced_df = df.groupby(LABEL_COLUMN, group_keys=False).apply(\n",
    "        lambda x: x.sample(n=SAMPLES_PER_LABEL, random_state=RANDOM_STATE, replace=True)\n",
    "    )\n",
    "\n",
    "    # 3. Shuffle the resulting DataFrame to mix the labels.\n",
    "    # This ensures that the data is not sorted by label, which is good for training.\n",
    "    print(\"Shuffling the new dataset...\")\n",
    "    balanced_df = balanced_df.sample(frac=1, random_state=RANDOM_STATE).reset_index(drop=True)\n",
    "\n",
    "    # 4. Save the new, balanced DataFrame to a new CSV file.\n",
    "    print(f\"Saving the balanced dataset to '{OUTPUT_CSV_PATH}'...\")\n",
    "    balanced_df.to_csv(OUTPUT_CSV_PATH, index=False)\n",
    "\n",
    "    print(\"\\nNew balanced dataset created successfully!\")\n",
    "    print(f\"Final shape: {balanced_df.shape}\")\n",
    "    print(\"\\nNew label distribution:\")\n",
    "    print(balanced_df[LABEL_COLUMN].value_counts())\n",
    "\n",
    "except FileNotFoundError:\n",
    "    print(f\"ERROR: The file '{INPUT_CSV_PATH}' was not found.\")\n",
    "    print(\"Please make sure the CSV file is in the same directory as this script.\")\n",
    "except Exception as e:\n",
    "    print(f\"An unexpected error occurred: {e}\")\n"
   ]
  },
  {
   "cell_type": "code",
   "execution_count": null,
   "id": "3b292f07",
   "metadata": {},
   "outputs": [],
   "source": []
  }
 ],
 "metadata": {
  "kernelspec": {
   "display_name": ".venv",
   "language": "python",
   "name": "python3"
  },
  "language_info": {
   "codemirror_mode": {
    "name": "ipython",
    "version": 3
   },
   "file_extension": ".py",
   "mimetype": "text/x-python",
   "name": "python",
   "nbconvert_exporter": "python",
   "pygments_lexer": "ipython3",
   "version": "3.11.9"
  }
 },
 "nbformat": 4,
 "nbformat_minor": 5
}
